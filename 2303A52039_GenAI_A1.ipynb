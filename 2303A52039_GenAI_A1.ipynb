{
  "nbformat": 4,
  "nbformat_minor": 0,
  "metadata": {
    "colab": {
      "provenance": [],
      "include_colab_link": true
    },
    "kernelspec": {
      "name": "python3",
      "display_name": "Python 3"
    },
    "language_info": {
      "name": "python"
    }
  },
  "cells": [
    {
      "cell_type": "markdown",
      "metadata": {
        "id": "view-in-github",
        "colab_type": "text"
      },
      "source": [
        "<a href=\"https://colab.research.google.com/github/chodhitha03/GenAI_2303A52039/blob/main/2303A52039_GenAI_A1.ipynb\" target=\"_parent\"><img src=\"https://colab.research.google.com/assets/colab-badge.svg\" alt=\"Open In Colab\"/></a>"
      ]
    },
    {
      "cell_type": "markdown",
      "source": [
        "# Question 1"
      ],
      "metadata": {
        "id": "7R1sCvd4qpnp"
      }
    },
    {
      "cell_type": "markdown",
      "source": [
        " (1 ponto) Write Python code from scratch to find error metrics of deep learning model. Actual\n",
        " values and deep learning model predicted values are shown in Table 1. Also compare the results\n",
        " with the outcomes of libraries\n",
        "\n",
        "\n",
        "![image.png](data:image/png;base64,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)\n",
        "\n"
      ],
      "metadata": {
        "id": "xpf1a3QqrFFa"
      }
    },
    {
      "cell_type": "markdown",
      "source": [],
      "metadata": {
        "id": "hg3kWnGGquBQ"
      }
    },
    {
      "cell_type": "markdown",
      "source": [
        "## Regression Metrices"
      ],
      "metadata": {
        "id": "YweCGpEdUC2i"
      }
    },
    {
      "cell_type": "code",
      "execution_count": null,
      "metadata": {
        "id": "cieaIhOhQA2b"
      },
      "outputs": [],
      "source": [
        "y=[10,20,30,40,50]\n",
        "yp=[10.2,20.5,30.3,40.8,50.6]"
      ]
    },
    {
      "cell_type": "markdown",
      "source": [
        "## Without library"
      ],
      "metadata": {
        "id": "K_YQ_nkif7OG"
      }
    },
    {
      "cell_type": "code",
      "source": [
        "sum=0\n",
        "for i in range(len(y)):\n",
        "    sum+=(y[i]-yp[i])**2\n",
        "mean_square_error=sum/len(y)\n",
        "print('the mean square error of the above data is: ',mean_square_error)"
      ],
      "metadata": {
        "colab": {
          "base_uri": "https://localhost:8080/"
        },
        "id": "htg81I_rQEmH",
        "outputId": "0de03883-b5ab-40ce-8d59-0af5be8f338a"
      },
      "execution_count": null,
      "outputs": [
        {
          "output_type": "stream",
          "name": "stdout",
          "text": [
            "the mean square error of the above data is:  0.27599999999999947\n"
          ]
        }
      ]
    },
    {
      "cell_type": "code",
      "source": [
        "sum=0\n",
        "for i in range(len(y)):\n",
        "    sum+=abs(y[i]-yp[i])\n",
        "mean_abs_error=sum/len(y)\n",
        "print('the mean abs error of the above data is: ',mean_abs_error)"
      ],
      "metadata": {
        "colab": {
          "base_uri": "https://localhost:8080/"
        },
        "id": "FEiUfHu5QGWG",
        "outputId": "e61e5077-932b-4949-c647-73731d1a19bd"
      },
      "execution_count": null,
      "outputs": [
        {
          "output_type": "stream",
          "name": "stdout",
          "text": [
            "the mean abs error of the above data is:  0.4799999999999997\n"
          ]
        }
      ]
    },
    {
      "cell_type": "code",
      "source": [
        "print('the root mean error of the above data is: ',(mean_square_error**0.5))"
      ],
      "metadata": {
        "colab": {
          "base_uri": "https://localhost:8080/"
        },
        "id": "bNDeUc4pQIAW",
        "outputId": "1a39b774-856b-4eb9-f56e-6cb468ae1b91"
      },
      "execution_count": null,
      "outputs": [
        {
          "output_type": "stream",
          "name": "stdout",
          "text": [
            "the root mean error of the above data is:  0.5253570214625474\n"
          ]
        }
      ]
    },
    {
      "cell_type": "markdown",
      "source": [
        "## with library"
      ],
      "metadata": {
        "id": "3-hMcDNFgE1X"
      }
    },
    {
      "cell_type": "code",
      "source": [
        "from sklearn.metrics import mean_squared_error, mean_absolute_error"
      ],
      "metadata": {
        "id": "H4ndH-mMQcpY"
      },
      "execution_count": null,
      "outputs": []
    },
    {
      "cell_type": "code",
      "source": [
        "mse = mean_squared_error(y, yp)\n",
        "print('The Mean Squared Error is:', mse)"
      ],
      "metadata": {
        "colab": {
          "base_uri": "https://localhost:8080/"
        },
        "id": "9_hn1xMjQ18f",
        "outputId": "133d39fb-dfee-454a-883d-002ff3c36fe8"
      },
      "execution_count": null,
      "outputs": [
        {
          "output_type": "stream",
          "name": "stdout",
          "text": [
            "The Mean Squared Error is: 0.27599999999999947\n"
          ]
        }
      ]
    },
    {
      "cell_type": "code",
      "source": [
        "mae = mean_absolute_error(y, yp)\n",
        "print('The Mean Absolute Error is:', mae)"
      ],
      "metadata": {
        "colab": {
          "base_uri": "https://localhost:8080/"
        },
        "id": "DNrT8s6fQ-rq",
        "outputId": "6e284382-f3bb-4f0b-f9ff-46a11018ab3a"
      },
      "execution_count": null,
      "outputs": [
        {
          "output_type": "stream",
          "name": "stdout",
          "text": [
            "The Mean Absolute Error is: 0.4799999999999997\n"
          ]
        }
      ]
    },
    {
      "cell_type": "code",
      "source": [
        "rmse = mse**0.5  # RMSE is the square root of MSE\n",
        "print('The Root Mean Squared Error is:', rmse)"
      ],
      "metadata": {
        "colab": {
          "base_uri": "https://localhost:8080/"
        },
        "id": "dQdWt0_eRLBU",
        "outputId": "03fd6372-9e45-4a5b-9564-a5e03dd8d957"
      },
      "execution_count": null,
      "outputs": [
        {
          "output_type": "stream",
          "name": "stdout",
          "text": [
            "The Root Mean Squared Error is: 0.5253570214625474\n"
          ]
        }
      ]
    },
    {
      "cell_type": "markdown",
      "source": [
        "# Question 2"
      ],
      "metadata": {
        "id": "m_TroKINromY"
      }
    },
    {
      "cell_type": "markdown",
      "source": [
        "2. (1 ponto) Write python code from scratch to find evaluation metrics of deep learning model.\n",
        " Actual values and deep learning model predicted values are shown in Table 2. Also compare the\n",
        " results with outcome of libraries\n",
        "\n",
        " ![image.png](data:image/png;base64,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)"
      ],
      "metadata": {
        "id": "doIpvwr-rtC2"
      }
    },
    {
      "cell_type": "markdown",
      "source": [
        "## Classification Metrices"
      ],
      "metadata": {
        "id": "UzeZFMiWT9Gp"
      }
    },
    {
      "cell_type": "code",
      "source": [
        "import numpy as np\n",
        "yact=[0,0,0,0,0,1,1,1,1,1,1,2,2,2,2,2]\n",
        "ypred=[0,0,1,1,2,2,0,1,1,1,2,0,2,1,1,2]"
      ],
      "metadata": {
        "id": "PeqF19kkUlnC"
      },
      "execution_count": null,
      "outputs": []
    },
    {
      "cell_type": "markdown",
      "source": [
        "## Without library"
      ],
      "metadata": {
        "id": "SkztYDyoUcIn"
      }
    },
    {
      "cell_type": "code",
      "source": [
        "l=[]\n",
        "for i in range(len(yact)):\n",
        "    l.append([yact[i],ypred[i]])\n",
        "print(l)"
      ],
      "metadata": {
        "colab": {
          "base_uri": "https://localhost:8080/"
        },
        "id": "80lyDlbkUfXR",
        "outputId": "997c2071-2218-4d31-922e-8453f62d81d5"
      },
      "execution_count": null,
      "outputs": [
        {
          "output_type": "stream",
          "name": "stdout",
          "text": [
            "[[0, 0], [0, 0], [0, 1], [0, 1], [0, 2], [1, 2], [1, 0], [1, 1], [1, 1], [1, 1], [1, 2], [2, 0], [2, 2], [2, 1], [2, 1], [2, 2]]\n"
          ]
        }
      ]
    },
    {
      "cell_type": "code",
      "source": [
        "yact_set=list(sorted(set(yact)))\n",
        "yact_set"
      ],
      "metadata": {
        "colab": {
          "base_uri": "https://localhost:8080/"
        },
        "id": "Fn1-yVFmkR8i",
        "outputId": "0d358b40-2321-4fa1-8963-bbb4d44fa34d"
      },
      "execution_count": null,
      "outputs": [
        {
          "output_type": "execute_result",
          "data": {
            "text/plain": [
              "[0, 1, 2]"
            ]
          },
          "metadata": {},
          "execution_count": 2
        }
      ]
    },
    {
      "cell_type": "code",
      "source": [
        "cm=[]\n",
        "for i in yact_set:\n",
        "  temp=[]\n",
        "  for j in yact_set:\n",
        "    temp.append(l.count([i,j]))\n",
        "  cm.append(temp)"
      ],
      "metadata": {
        "id": "oV0xvQTvki_W"
      },
      "execution_count": null,
      "outputs": []
    },
    {
      "cell_type": "code",
      "source": [
        "print(\"confusionmatrix of above data is:\\n\",np.array(cm))"
      ],
      "metadata": {
        "colab": {
          "base_uri": "https://localhost:8080/"
        },
        "id": "tXKqWbO1VXW7",
        "outputId": "d59bed0f-2e5a-486a-a750-1554cd794484"
      },
      "execution_count": null,
      "outputs": [
        {
          "output_type": "stream",
          "name": "stdout",
          "text": [
            "confusionmatrix of above data is:\n",
            " [[2 2 1]\n",
            " [1 3 2]\n",
            " [1 2 2]]\n"
          ]
        }
      ]
    },
    {
      "cell_type": "code",
      "source": [
        "import numpy as np\n",
        "\n",
        "def calculate_precision_recall_f1(cm):\n",
        "    total = sum(sum(row) for row in cm)\n",
        "    num_classes = len(cm)\n",
        "    precision = [0] * num_classes\n",
        "    recall = [0] * num_classes\n",
        "    f1_score = [0] * num_classes\n",
        "    tp_mat = []\n",
        "    fp_mat = []\n",
        "    fn_mat = []\n",
        "    tn_mat = []\n",
        "\n",
        "    for i in range(num_classes):\n",
        "        tp = cm[i][i]\n",
        "        fp = 0\n",
        "        for j in range(num_classes):\n",
        "            if j != i:\n",
        "                fp += cm[j][i]\n",
        "        if tp + fp != 0:\n",
        "            precision[i] = tp / (tp + fp)\n",
        "\n",
        "        tp = cm[i][i]\n",
        "        fn = 0\n",
        "        for j in range(num_classes):\n",
        "            if j != i:\n",
        "                fn += cm[i][j]\n",
        "        if tp + fn != 0:\n",
        "            recall[i] = tp / (tp + fn)\n",
        "\n",
        "        if precision[i] + recall[i] != 0:\n",
        "            f1_score[i] = 2 * (precision[i] * recall[i]) / (precision[i] + recall[i])\n",
        "\n",
        "        tp_mat.append(tp)\n",
        "        fp_mat.append(fp)\n",
        "        fn_mat.append(fn)\n",
        "        tn_mat.append(total - tp - fp - fn)\n",
        "\n",
        "    return precision, recall, f1_score, tp_mat, fp_mat, fn_mat, tn_mat, total\n",
        "\n",
        "precision_values, recall_values, f1_values, tp_mat, fp_mat, fn_mat, tn_mat, total = calculate_precision_recall_f1(cm)\n",
        "\n",
        "for i in range(len(precision_values)):\n",
        "    print(f\"Class {i} - Precision: {precision_values[i]}, Recall: {recall_values[i]}, F1-Score: {f1_values[i]}\")\n",
        "\n",
        "print(f\"\\nOverall Accuracy: {np.sum(tp_mat)/total}\")\n",
        "print(f\"Overall Precision: {np.sum(tp_mat) / (np.sum(tp_mat) + np.sum(fp_mat))}\")\n",
        "print(f\"Overall Recall: {np.sum(tp_mat) / (np.sum(tp_mat) + np.sum(fn_mat)):.4f}\")\n",
        "print(f\"Overall F1-Score: {np.mean(f1_values)}\")"
      ],
      "metadata": {
        "colab": {
          "base_uri": "https://localhost:8080/"
        },
        "id": "9LGz-aluZMmo",
        "outputId": "60353d5c-2e94-40d3-9f3b-194af8d360cf"
      },
      "execution_count": null,
      "outputs": [
        {
          "output_type": "stream",
          "name": "stdout",
          "text": [
            "Class 0 - Precision: 0.5, Recall: 0.4, F1-Score: 0.4444444444444445\n",
            "Class 1 - Precision: 0.42857142857142855, Recall: 0.5, F1-Score: 0.4615384615384615\n",
            "Class 2 - Precision: 0.4, Recall: 0.4, F1-Score: 0.4000000000000001\n",
            "\n",
            "Overall Accuracy: 0.4375\n",
            "Overall Precision: 0.4375\n",
            "Overall Recall: 0.4375\n",
            "Overall F1-Score: 0.43532763532763535\n"
          ]
        }
      ]
    },
    {
      "cell_type": "markdown",
      "source": [
        "## with library"
      ],
      "metadata": {
        "id": "4eETeXIIUZeo"
      }
    },
    {
      "cell_type": "code",
      "source": [
        "from sklearn.metrics import confusion_matrix, classification_report, roc_auc_score, accuracy_score, precision_score, recall_score, f1_score\n",
        "\n",
        "print(\"Confusion Matrix:\\n\", confusion_matrix(yact, ypred))\n",
        "\n",
        "print(\"Classification Report:\\n\", classification_report(yact, ypred))\n",
        "\n",
        "accuracy = accuracy_score(yact, ypred)\n",
        "precision = precision_score(yact, ypred, average='weighted')\n",
        "recall = recall_score(yact, ypred, average='weighted')\n",
        "f1 = f1_score(yact, ypred, average='weighted')\n",
        "\n",
        "print(f\"Accuracy: {accuracy}\")\n",
        "print(f\"Precision: {precision}\")\n",
        "print(f\"Recall: {recall}\")\n",
        "print(f\"F1-Score: {f1}\")\n"
      ],
      "metadata": {
        "colab": {
          "base_uri": "https://localhost:8080/"
        },
        "id": "RbmiyYfVSTb4",
        "outputId": "c7d91ea1-b3c4-488b-d0e8-4f1d0b6d7075"
      },
      "execution_count": null,
      "outputs": [
        {
          "output_type": "stream",
          "name": "stdout",
          "text": [
            "Confusion Matrix:\n",
            " [[2 2 1]\n",
            " [1 3 2]\n",
            " [1 2 2]]\n",
            "Classification Report:\n",
            "               precision    recall  f1-score   support\n",
            "\n",
            "           0       0.50      0.40      0.44         5\n",
            "           1       0.43      0.50      0.46         6\n",
            "           2       0.40      0.40      0.40         5\n",
            "\n",
            "    accuracy                           0.44        16\n",
            "   macro avg       0.44      0.43      0.44        16\n",
            "weighted avg       0.44      0.44      0.44        16\n",
            "\n",
            "Accuracy: 0.4375\n",
            "Precision: 0.4419642857142857\n",
            "Recall: 0.4375\n",
            "F1-Score: 0.43696581196581197\n"
          ]
        }
      ]
    }
  ]
}
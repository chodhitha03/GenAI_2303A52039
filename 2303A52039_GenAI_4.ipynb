{
  "nbformat": 4,
  "nbformat_minor": 0,
  "metadata": {
    "colab": {
      "provenance": [],
      "include_colab_link": true
    },
    "kernelspec": {
      "name": "python3",
      "display_name": "Python 3"
    },
    "language_info": {
      "name": "python"
    }
  },
  "cells": [
    {
      "cell_type": "markdown",
      "metadata": {
        "id": "view-in-github",
        "colab_type": "text"
      },
      "source": [
        "<a href=\"https://colab.research.google.com/github/chodhitha03/GenAI_2303A52039/blob/main/2303A52039_GenAI_4.ipynb\" target=\"_parent\"><img src=\"https://colab.research.google.com/assets/colab-badge.svg\" alt=\"Open In Colab\"/></a>"
      ]
    },
    {
      "cell_type": "code",
      "execution_count": null,
      "metadata": {
        "colab": {
          "base_uri": "https://localhost:8080/"
        },
        "id": "YZ24xDUVRret",
        "outputId": "97695c89-1912-49df-98cd-6ddb6780c16e"
      },
      "outputs": [
        {
          "output_type": "stream",
          "name": "stdout",
          "text": [
            "Trained Weights: [ 0.74578833 -0.15586571  0.17124035]\n",
            "Trained Bias: [0.03678103]\n"
          ]
        }
      ],
      "source": [
        "import numpy as np\n",
        "X_train = np.array([[0.1, 0.2, 0.3],\n",
        "                   [0.2, 0.3, 0.4],\n",
        "                   [0.3, 0.4, 0.5],\n",
        "                   [0.5, 0.6, 0.7],\n",
        "                   [0.1, 0.3, 0.5],\n",
        "                   [0.2, 0.4, 0.6],\n",
        "                   [0.3, 0.5, 0.7],\n",
        "                   [0.4, 0.6, 0.8],\n",
        "                   [0.5, 0.7, 0.1]])\n",
        "y_train = np.array([0.14, 0.20, 0.26, 0.38, 0.22, 0.28, 0.34, 0.40, 0.22])\n",
        "W = np.random.rand(3)\n",
        "b = np.random.rand(1)\n",
        "learning_rate = 0.01\n",
        "epochs = 1000\n",
        "for epoch in range(epochs):\n",
        "    y_pred = np.dot(X_train, W) + b\n",
        "    error = y_train - y_pred\n",
        "    dW = -2 * np.dot(X_train.T, error) / len(X_train)\n",
        "    db = -2 * np.sum(error) / len(X_train)\n",
        "    W = W - learning_rate * dW\n",
        "    b = b - learning_rate * db\n",
        "print(\"Trained Weights:\", W)\n",
        "print(\"Trained Bias:\", b)"
      ]
    },
    {
      "cell_type": "code",
      "source": [
        "X_test = np.array([[0.6, 0.7, 0.8],\n",
        "                  [0.7, 0.8, 0.9]])\n",
        "y_test = np.array([0.44, 0.50])\n",
        "y_train_pred = np.dot(X_train, W) + b\n",
        "y_test_pred = np.dot(X_test, W) + b\n",
        "mse_train = np.mean((y_train - y_train_pred)**2)\n",
        "mse_test = np.mean((y_test - y_test_pred)**2)\n",
        "print(\"Mean Squared Error (Training):\", mse_train)\n",
        "print(\"Mean Squared Error (Test):\", mse_test)"
      ],
      "metadata": {
        "colab": {
          "base_uri": "https://localhost:8080/"
        },
        "id": "BkVljRcbSA2N",
        "outputId": "9aa136a6-4e95-4332-f288-a89e7536c969"
      },
      "execution_count": null,
      "outputs": [
        {
          "output_type": "stream",
          "name": "stdout",
          "text": [
            "Mean Squared Error (Training): 0.0025552081043513316\n",
            "Mean Squared Error (Test): 0.006496725038453546\n"
          ]
        }
      ]
    },
    {
      "cell_type": "code",
      "source": [
        "x1 = float(input(\"Enter x1: \"))\n",
        "x2 = float(input(\"Enter x2: \"))\n",
        "x3 = float(input(\"Enter x3: \"))\n",
        "input_data = np.array([x1, x2, x3])\n",
        "predicted_output = np.dot(input_data, W) + b\n",
        "print(\"Predicted Output:\", predicted_output)"
      ],
      "metadata": {
        "colab": {
          "base_uri": "https://localhost:8080/"
        },
        "id": "K9S7QaUGSGbA",
        "outputId": "1907625d-dc1f-4132-e603-5fa3b2043354"
      },
      "execution_count": null,
      "outputs": [
        {
          "output_type": "stream",
          "name": "stdout",
          "text": [
            "Enter x1: 4\n",
            "Enter x2: 5\n",
            "Enter x3: 6\n",
            "Predicted Output: [3.26804786]\n"
          ]
        }
      ]
    },
    {
      "cell_type": "code",
      "source": [
        "X_train = np.array([[0.1, 0.2, 0.3],\n",
        "                   [0.2, 0.3, 0.4],\n",
        "                   [0.3, 0.4, 0.5],\n",
        "                   [0.5, 0.6, 0.7],\n",
        "                   [0.1, 0.3, 0.5],\n",
        "                   [0.2, 0.4, 0.6],\n",
        "                   [0.3, 0.5, 0.7],\n",
        "                   [0.4, 0.6, 0.8],\n",
        "                   [0.5, 0.7, 0.1]])\n",
        "y_train = np.array([0.5349, 0.5498, 0.5646, 0.5939, 0.5548, 0.5695, 0.5842, 0.5987, 0.5548])\n",
        "W = np.random.rand(3)\n",
        "b = np.random.rand(1)\n",
        "learning_rate = 0.01\n",
        "epochs = 1000\n",
        "def sigmoid(x):\n",
        "    return 1 / (1 + np.exp(-x))\n",
        "for epoch in range(epochs):\n",
        "    z = np.dot(X_train, W) + b\n",
        "    y_pred = sigmoid(z)\n",
        "    error = y_train - y_pred\n",
        "    d_sigmoid = y_pred * (1 - y_pred)\n",
        "    dW = -2 * np.dot(X_train.T, error * d_sigmoid) / len(X_train)\n",
        "    db = -2 * np.sum(error * d_sigmoid) / len(X_train)\n",
        "    W = W - learning_rate * dW\n",
        "    b = b - learning_rate * db\n",
        "print(\"Trained Weights:\", W)\n",
        "print(\"Trained Bias:\", b)"
      ],
      "metadata": {
        "colab": {
          "base_uri": "https://localhost:8080/"
        },
        "id": "8nyQW1haTqTp",
        "outputId": "e8b62756-7489-4eb2-9934-0742fd5e4626"
      },
      "execution_count": null,
      "outputs": [
        {
          "output_type": "stream",
          "name": "stdout",
          "text": [
            "Trained Weights: [0.14070323 0.32715328 0.31763808]\n",
            "Trained Bias: [0.01354955]\n"
          ]
        }
      ]
    },
    {
      "cell_type": "code",
      "source": [
        "X_test = np.array([[0.6, 0.7, 0.8],\n",
        "                  [0.7, 0.8, 0.9]])\n",
        "y_test = np.array([0.6083, 0.6225])\n",
        "y_train_pred = sigmoid(np.dot(X_train, W) + b)\n",
        "y_test_pred = sigmoid(np.dot(X_test, W) + b)\n",
        "mse_train = np.mean((y_train - y_train_pred)**2)\n",
        "mse_test = np.mean((y_test - y_test_pred)**2)\n",
        "print(\"Mean Squared Error (Training):\", mse_train)\n",
        "print(\"Mean Squared Error (Test):\", mse_test)"
      ],
      "metadata": {
        "colab": {
          "base_uri": "https://localhost:8080/"
        },
        "id": "BDRiBelQTvlm",
        "outputId": "687105b0-d6bc-4cbc-c677-396871d9e4d3"
      },
      "execution_count": null,
      "outputs": [
        {
          "output_type": "stream",
          "name": "stdout",
          "text": [
            "Mean Squared Error (Training): 0.0018424239035682568\n",
            "Mean Squared Error (Test): 0.0009683993619826372\n"
          ]
        }
      ]
    },
    {
      "cell_type": "code",
      "source": [
        "x1 = float(input(\"Enter x1: \"))\n",
        "x2 = float(input(\"Enter x2: \"))\n",
        "x3 = float(input(\"Enter x3: \"))\n",
        "input_data = np.array([x1, x2, x3])\n",
        "predicted_output = sigmoid(np.dot(input_data, W) + b)\n",
        "print(\"Predicted Output:\", predicted_output)"
      ],
      "metadata": {
        "colab": {
          "base_uri": "https://localhost:8080/"
        },
        "id": "gsIBOBlVT0eE",
        "outputId": "745e4403-fe44-4bd8-e325-a8764b77b03b"
      },
      "execution_count": null,
      "outputs": [
        {
          "output_type": "stream",
          "name": "stdout",
          "text": [
            "Enter x1: 0.1\n",
            "Enter x2: 0.2\n",
            "Enter x3: 0.1\n",
            "Predicted Output: [0.57351439]\n"
          ]
        }
      ]
    }
  ]
}
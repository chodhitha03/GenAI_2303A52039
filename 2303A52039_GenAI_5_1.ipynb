{
  "nbformat": 4,
  "nbformat_minor": 0,
  "metadata": {
    "colab": {
      "provenance": [],
      "include_colab_link": true
    },
    "kernelspec": {
      "name": "python3",
      "display_name": "Python 3"
    },
    "language_info": {
      "name": "python"
    }
  },
  "cells": [
    {
      "cell_type": "markdown",
      "metadata": {
        "id": "view-in-github",
        "colab_type": "text"
      },
      "source": [
        "<a href=\"https://colab.research.google.com/github/chodhitha03/GenAI_2303A52039/blob/main/2303A52039_GenAI_5_1.ipynb\" target=\"_parent\"><img src=\"https://colab.research.google.com/assets/colab-badge.svg\" alt=\"Open In Colab\"/></a>"
      ]
    },
    {
      "cell_type": "code",
      "execution_count": null,
      "metadata": {
        "id": "iADwuyA5WSbY"
      },
      "outputs": [],
      "source": [
        "import numpy as np"
      ]
    },
    {
      "cell_type": "code",
      "source": [
        "def sigmoid(x):\n",
        "    return 1 / (1 + np.exp(-x))\n",
        "def sigmoid_derivative(x):\n",
        "    return x * (1 - x)\n",
        "def mse(y_true, y_pred):\n",
        "    return np.mean((y_true - y_pred) ** 2)"
      ],
      "metadata": {
        "id": "vSp0GnBIXPh7"
      },
      "execution_count": null,
      "outputs": []
    },
    {
      "cell_type": "code",
      "source": [
        "class ANN:\n",
        "    def __init__(self, input_size, hidden_size, output_size, learning_rate=0.1):\n",
        "        self.learning_rate = learning_rate\n",
        "        self.weights_input_hidden = np.random.rand(input_size, hidden_size) * 0.1\n",
        "        self.bias_hidden = np.zeros((1, hidden_size))\n",
        "        self.weights_hidden_output = np.random.rand(hidden_size, output_size) * 0.1\n",
        "        self.bias_output = np.zeros((1, output_size))\n",
        "    def forward(self, X):\n",
        "        self.hidden_input = np.dot(X, self.weights_input_hidden) + self.bias_hidden\n",
        "        self.hidden_output = sigmoid(self.hidden_input)\n",
        "        self.final_input = np.dot(self.hidden_output, self.weights_hidden_output) + self.bias_output\n",
        "        self.final_output = self.final_input\n",
        "        return self.final_output\n",
        "    def backward(self, X, y):\n",
        "        m = X.shape[0]\n",
        "        error_output = self.final_output - y\n",
        "        d_output = error_output / m\n",
        "        error_hidden = np.dot(d_output, self.weights_hidden_output.T) * sigmoid_derivative(self.hidden_output)\n",
        "        self.weights_hidden_output -= self.learning_rate * np.dot(self.hidden_output.T, d_output)\n",
        "        self.bias_output -= self.learning_rate * np.sum(d_output, axis=0, keepdims=True)\n",
        "        self.weights_input_hidden -= self.learning_rate * np.dot(X.T, error_hidden)\n",
        "        self.bias_hidden -= self.learning_rate * np.sum(error_hidden, axis=0, keepdims=True)\n",
        "    def train(self, X, y, epochs=1000):\n",
        "        for epoch in range(epochs):\n",
        "            self.forward(X)\n",
        "            self.backward(X, y)\n",
        "            if epoch % 100 == 0:\n",
        "                loss = mse(y, self.final_output)\n",
        "                print(f\"Epoch {epoch}, Loss: {loss:.6f}\")\n",
        "    def predict(self, X):\n",
        "        return self.forward(X)"
      ],
      "metadata": {
        "id": "ufEwGtUrXYFU"
      },
      "execution_count": null,
      "outputs": []
    },
    {
      "cell_type": "code",
      "source": [
        "X_train = np.array([[0.1, 0.2],[0.2, 0.3],[0.3, 0.4],[0.6, 0.7],[0.7, 0.8],[0.8, 0.9]])\n",
        "y_train = np.array([[0.3432],[0.3490],[0.3548],[0.3720],[0.3776],[0.3832]])\n",
        "X_test = np.array([[0.4, 0.5],[0.5, 0.6]])\n",
        "y_test = np.array([[0.3606],[0.3663]])"
      ],
      "metadata": {
        "id": "Xk1nGgb_XqfL"
      },
      "execution_count": null,
      "outputs": []
    },
    {
      "cell_type": "code",
      "source": [
        "ann = ANN(input_size=2, hidden_size=4, output_size=1, learning_rate=0.1)\n",
        "ann.train(X_train, y_train, epochs=1000)"
      ],
      "metadata": {
        "colab": {
          "base_uri": "https://localhost:8080/"
        },
        "id": "oBly2JreYDKe",
        "outputId": "a33e9100-731f-4f3c-ab95-4cdb201fbe2a"
      },
      "execution_count": null,
      "outputs": [
        {
          "output_type": "stream",
          "name": "stdout",
          "text": [
            "Epoch 0, Loss: 0.086084\n",
            "Epoch 100, Loss: 0.000142\n",
            "Epoch 200, Loss: 0.000141\n",
            "Epoch 300, Loss: 0.000139\n",
            "Epoch 400, Loss: 0.000138\n",
            "Epoch 500, Loss: 0.000136\n",
            "Epoch 600, Loss: 0.000135\n",
            "Epoch 700, Loss: 0.000133\n",
            "Epoch 800, Loss: 0.000132\n",
            "Epoch 900, Loss: 0.000130\n"
          ]
        }
      ]
    },
    {
      "cell_type": "code",
      "source": [
        "y_train_pred = ann.predict(X_train)\n",
        "y_test_pred = ann.predict(X_test)\n",
        "mse_train = mse(y_train, y_train_pred)\n",
        "mse_test = mse(y_test, y_test_pred)\n",
        "print(f\"\\nTraining MSE: {mse_train:.6f}\")\n",
        "print(f\"Testing MSE: {mse_test:.6f}\")"
      ],
      "metadata": {
        "colab": {
          "base_uri": "https://localhost:8080/"
        },
        "id": "mOBO80AiYRkk",
        "outputId": "b53001e4-49d5-4138-87d0-d999b23c12b9"
      },
      "execution_count": null,
      "outputs": [
        {
          "output_type": "stream",
          "name": "stdout",
          "text": [
            "\n",
            "Training MSE: 0.000129\n",
            "Testing MSE: 0.000005\n"
          ]
        }
      ]
    },
    {
      "cell_type": "code",
      "source": [
        "x1 = float(input(\"\\nEnter x1: \"))\n",
        "x2 = float(input(\"Enter x2: \"))\n",
        "user_input = np.array([[x1, x2]])\n",
        "predicted_output = ann.predict(user_input)\n",
        "print(f\"Predicted Output: {predicted_output[0][0]:.6f}\")"
      ],
      "metadata": {
        "colab": {
          "base_uri": "https://localhost:8080/"
        },
        "id": "gb2byPFAYZJM",
        "outputId": "56bff900-9536-4902-bfcc-0e5a60833418"
      },
      "execution_count": null,
      "outputs": [
        {
          "output_type": "stream",
          "name": "stdout",
          "text": [
            "\n",
            "Enter x1: 0.4\n",
            "Enter x2: 0.5\n",
            "Predicted Output: 0.362667\n"
          ]
        }
      ]
    }
  ]
}